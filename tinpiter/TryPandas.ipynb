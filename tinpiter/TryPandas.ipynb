{
 "cells": [
  {
   "cell_type": "markdown",
   "metadata": {},
   "source": [
    "## Try Pandas Notebook"
   ]
  },
  {
   "cell_type": "code",
   "execution_count": 1,
   "metadata": {},
   "outputs": [],
   "source": [
    "import numpy as np\n",
    "import pandas as pd"
   ]
  },
  {
   "cell_type": "code",
   "execution_count": 5,
   "metadata": {},
   "outputs": [
    {
     "data": {
      "text/plain": [
       "0     1\n",
       "1     2\n",
       "2     4\n",
       "3     6\n",
       "4     8\n",
       "5    10\n",
       "dtype: int64"
      ]
     },
     "execution_count": 5,
     "metadata": {},
     "output_type": "execute_result"
    }
   ],
   "source": [
    "example_series = pd.Series([1,2,4,6,8,10])\n",
    "example_series"
   ]
  },
  {
   "cell_type": "code",
   "execution_count": 7,
   "metadata": {},
   "outputs": [
    {
     "data": {
      "text/plain": [
       "array([ 5, 10, 15, 20, 25, 30, 35, 40, 45, 50, 55, 60, 65, 70, 75, 80, 85,\n",
       "       90, 95])"
      ]
     },
     "execution_count": 7,
     "metadata": {},
     "output_type": "execute_result"
    }
   ],
   "source": [
    "example_array = np.arange(5,100,5)\n",
    "example_array"
   ]
  },
  {
   "cell_type": "code",
   "execution_count": 22,
   "metadata": {},
   "outputs": [
    {
     "data": {
      "text/plain": [
       "Name                       Mobile\n",
       "Band                        BNK48\n",
       "Generation                      1\n",
       "Team                           NV\n",
       "Age                            18\n",
       "Birthday      2002-07-19 00:00:00\n",
       "dtype: object"
      ]
     },
     "execution_count": 22,
     "metadata": {},
     "output_type": "execute_result"
    }
   ],
   "source": [
    "june_series = pd.Series({'Name':'Juné',\n",
    "                        'Band':'BNK48',\n",
    "                        'Generation':2,\n",
    "                        'Team':'BIII',\n",
    "                        'Age':20,\n",
    "                        'Birthday':pd.Timestamp('20000626')})\n",
    "june_series\n",
    "\n",
    "mobile_series = pd.Series({'Name':'Mobile',\n",
    "                          'Band':'BNK48',\n",
    "                          'Generation':1,\n",
    "                          'Team':'NV',\n",
    "                          'Age':18,\n",
    "                          'Birthday':pd.Timestamp('20020719')})\n",
    "\n",
    "june_series\n",
    "mobile_series"
   ]
  },
  {
   "cell_type": "code",
   "execution_count": 28,
   "metadata": {},
   "outputs": [
    {
     "data": {
      "text/html": [
       "<div>\n",
       "<style scoped>\n",
       "    .dataframe tbody tr th:only-of-type {\n",
       "        vertical-align: middle;\n",
       "    }\n",
       "\n",
       "    .dataframe tbody tr th {\n",
       "        vertical-align: top;\n",
       "    }\n",
       "\n",
       "    .dataframe thead th {\n",
       "        text-align: right;\n",
       "    }\n",
       "</style>\n",
       "<table border=\"1\" class=\"dataframe\">\n",
       "  <thead>\n",
       "    <tr style=\"text-align: right;\">\n",
       "      <th></th>\n",
       "      <th>Name</th>\n",
       "      <th>Band</th>\n",
       "      <th>Generation</th>\n",
       "      <th>Team</th>\n",
       "      <th>Age</th>\n",
       "      <th>Birthday</th>\n",
       "    </tr>\n",
       "  </thead>\n",
       "  <tbody>\n",
       "    <tr>\n",
       "      <th>0</th>\n",
       "      <td>Juné</td>\n",
       "      <td>BNK48</td>\n",
       "      <td>2</td>\n",
       "      <td>BIII</td>\n",
       "      <td>20</td>\n",
       "      <td>2000-06-26</td>\n",
       "    </tr>\n",
       "    <tr>\n",
       "      <th>1</th>\n",
       "      <td>Mobile</td>\n",
       "      <td>BNK48</td>\n",
       "      <td>1</td>\n",
       "      <td>NV</td>\n",
       "      <td>18</td>\n",
       "      <td>2002-07-19</td>\n",
       "    </tr>\n",
       "  </tbody>\n",
       "</table>\n",
       "</div>"
      ],
      "text/plain": [
       "     Name   Band  Generation  Team  Age   Birthday\n",
       "0    Juné  BNK48           2  BIII   20 2000-06-26\n",
       "1  Mobile  BNK48           1    NV   18 2002-07-19"
      ]
     },
     "execution_count": 28,
     "metadata": {},
     "output_type": "execute_result"
    }
   ],
   "source": [
    "bnk_frame = pd.DataFrame([june_series,mobile_series])\n",
    "\n",
    "bnk_frame"
   ]
  },
  {
   "cell_type": "code",
   "execution_count": null,
   "metadata": {},
   "outputs": [],
   "source": []
  }
 ],
 "metadata": {
  "kernelspec": {
   "display_name": "Python 3",
   "language": "python",
   "name": "python3"
  },
  "language_info": {
   "codemirror_mode": {
    "name": "ipython",
    "version": 3
   },
   "file_extension": ".py",
   "mimetype": "text/x-python",
   "name": "python",
   "nbconvert_exporter": "python",
   "pygments_lexer": "ipython3",
   "version": "3.8.0"
  }
 },
 "nbformat": 4,
 "nbformat_minor": 4
}
